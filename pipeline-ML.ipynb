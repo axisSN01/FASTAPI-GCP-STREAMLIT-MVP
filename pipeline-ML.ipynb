{
 "cells": [
  {
   "cell_type": "code",
   "execution_count": 158,
   "id": "fe3385ca-aa0d-4f32-9d2d-0589223a03df",
   "metadata": {},
   "outputs": [],
   "source": [
    "import pandas as pd\n",
    "import numpy as np\n",
    "\n",
    "from sklearn.metrics import classification_report\n",
    "from sklearn.metrics import confusion_matrix\n",
    "from sklearn.preprocessing import OneHotEncoder\n",
    "from sklearn.preprocessing import LabelEncoder\n",
    "from sklearn.ensemble import RandomForestClassifier\n",
    "from joblib import dump\n",
    "import matplotlib.pyplot as plt\n",
    "import xgboost as xgb\n",
    "import seaborn as sns\n",
    "from datetime import datetime\n",
    "%matplotlib inline"
   ]
  },
  {
   "cell_type": "code",
   "execution_count": 5,
   "id": "5372347b-2489-4d8b-b012-dc35463b7bad",
   "metadata": {},
   "outputs": [
    {
     "name": "stdout",
     "output_type": "stream",
     "text": [
      "Dataframe shape: (369245, 35)\n",
      "\n",
      "\n",
      "features : None\n",
      "\n",
      "\n"
     ]
    }
   ],
   "source": [
    "DOB_approved_permits = pd.read_csv('https://data.cityofnewyork.us/api/views/rbx6-tga4/rows.csv?accessType=DOWNLOAD', low_memory=False)\n",
    "print(f\"Dataframe shape: {DOB_approved_permits.shape}\", end=\"\\n\"*3)\n",
    "print(f\"features: {DOB_approved_permits.columns}\", end=\"\\n\"*3)"
   ]
  },
  {
   "cell_type": "code",
   "execution_count": 6,
   "id": "d32aceee-1451-4b5e-a45c-422443ea0d12",
   "metadata": {},
   "outputs": [
    {
     "name": "stdout",
     "output_type": "stream",
     "text": [
      "Dataframe shape: (370150, 3)\n",
      "\n",
      "\n",
      "features: Index(['Unnamed: 0', 'Bin #', 'GIS_NTA_NAME'], dtype='object')\n",
      "\n",
      "\n"
     ]
    }
   ],
   "source": [
    "try: \n",
    "    BIN_NTA = pd.read_csv(\"df_bin_NTA.csv\")\n",
    "except: \n",
    "    DOB_JOB_AP_FIL = pd.read_csv(\"https://data.cityofnewyork.us/api/views/ic3t-wcy2/rows.csv?accessType=DOWNLOAD\", low_memory=False) #https://data.cityofnewyork.us/Housing-Development/DOB-Job-Application-Filings/ic3t-wcy2\n",
    "    BIN_NTA = DOB_JOB_AP_FIL.groupby(by=[\"Bin #\",\"GIS_NTA_NAME\"]).count().reset_index().loc[:,[\"Bin #\",\"GIS_NTA_NAME\"]]\n",
    "\n",
    "print(f\"Dataframe shape: {BIN_NTA.shape}\", end=\"\\n\"*3)\n",
    "print(f\"features: {BIN_NTA.columns}\", end=\"\\n\"*3)"
   ]
  },
  {
   "cell_type": "code",
   "execution_count": 63,
   "id": "3622721a-c0b7-4450-8830-c851abdd9f1b",
   "metadata": {},
   "outputs": [],
   "source": [
    "# build fataframe \n",
    "DOB_approved_permits.rename(columns={'Filing Reason': 'PERMIT', 'Bin': 'BIN', 'Applicant License #': 'LICENSE'}, inplace=True)\n",
    "DOB_approved_permits = DOB_approved_permits[['PERMIT', 'BIN', 'LICENSE']]\n",
    "BIN_NTA.rename(columns={\"Bin #\": \"BIN\"}, inplace=True)\n",
    "df = pd.merge(DOB_approved_permits, BIN_NTA, on=\"BIN\")"
   ]
  },
  {
   "cell_type": "code",
   "execution_count": 65,
   "id": "f02d9d3d-b2cd-4996-940a-9ec4b380f354",
   "metadata": {},
   "outputs": [],
   "source": [
    "# Casting data types\n",
    "df.loc[:,['BIN', 'LICENSE']] = df.loc[:,['BIN', 'LICENSE']].astype(dtype='int32')\n",
    "df.loc[:,['PERMIT', 'GIS_NTA_NAME']] = df.loc[:,['PERMIT', 'GIS_NTA_NAME']].astype(dtype='object')"
   ]
  },
  {
   "cell_type": "code",
   "execution_count": 23,
   "id": "6759dcd4-29d6-44fa-98f8-0dc28b40489f",
   "metadata": {},
   "outputs": [],
   "source": [
    "# Feature engineering : get reworks index by feature, one by time.\n",
    "def get_rework_index_by_feature(df_in, features_to_index):\n",
    "  df = df_in.copy(deep=True)\n",
    "  df = df.assign(one_hot=1) # add ones columns\n",
    "  df = df.groupby(features_to_index).count() # groupby features\n",
    "  rework_index=[]\n",
    "  for k0, v0 in df.groupby(level=0): # loop by first index\n",
    "    start=1  # by default allways has at least one start work permits\n",
    "    renew=0  # count times to renew work permits\n",
    "    for i, k in v0.groupby(level=1): # Loop por i = Filing reason\n",
    "      if i == \"Initial Permit\" and v0.one_hot[k0,i] != 1: # Just add if is major than one.\n",
    "        start=v0.one_hot[k0,i]\n",
    "\n",
    "      elif i != \"Initial Permit\": #Whatever other kind of permits, its consider reworks.\n",
    "        renew+=v0.one_hot[k0,i]\n",
    "\n",
    "    rework_index.append([k0,round(float(renew/start),4)])\n",
    "\n",
    "  df_aux = pd.DataFrame(rework_index, columns=[features_to_index[0],\"rework_index_\"+features_to_index[0]])\n",
    "  df_in = df_in.merge(df_aux, on=features_to_index[0])\n",
    "\n",
    "  return df_in"
   ]
  },
  {
   "cell_type": "code",
   "execution_count": 64,
   "id": "2b5f2b90-ac92-4c70-ad9d-fc033e0fc053",
   "metadata": {},
   "outputs": [],
   "source": [
    "# set features and target\n",
    "features = ['BIN', 'LICENSE', 'GIS_NTA_NAME','REWORK_INDEX']\n",
    "target = 'REWORK_INDEX'"
   ]
  },
  {
   "cell_type": "code",
   "execution_count": 66,
   "id": "33844699-a45e-4842-90ee-44f269d926fa",
   "metadata": {},
   "outputs": [
    {
     "data": {
      "text/html": [
       "<div>\n",
       "<style scoped>\n",
       "    .dataframe tbody tr th:only-of-type {\n",
       "        vertical-align: middle;\n",
       "    }\n",
       "\n",
       "    .dataframe tbody tr th {\n",
       "        vertical-align: top;\n",
       "    }\n",
       "\n",
       "    .dataframe thead th {\n",
       "        text-align: right;\n",
       "    }\n",
       "</style>\n",
       "<table border=\"1\" class=\"dataframe\">\n",
       "  <thead>\n",
       "    <tr style=\"text-align: right;\">\n",
       "      <th></th>\n",
       "      <th>BIN</th>\n",
       "      <th>LICENSE</th>\n",
       "      <th>GIS_NTA_NAME</th>\n",
       "      <th>REWORK_INDEX</th>\n",
       "    </tr>\n",
       "  </thead>\n",
       "  <tbody>\n",
       "    <tr>\n",
       "      <th>0</th>\n",
       "      <td>3335229</td>\n",
       "      <td>16217</td>\n",
       "      <td>Fort Greene</td>\n",
       "      <td>5.2393</td>\n",
       "    </tr>\n",
       "    <tr>\n",
       "      <th>1</th>\n",
       "      <td>3335229</td>\n",
       "      <td>16217</td>\n",
       "      <td>Fort Greene</td>\n",
       "      <td>5.2393</td>\n",
       "    </tr>\n",
       "    <tr>\n",
       "      <th>2</th>\n",
       "      <td>3335229</td>\n",
       "      <td>16217</td>\n",
       "      <td>Fort Greene</td>\n",
       "      <td>5.2393</td>\n",
       "    </tr>\n",
       "    <tr>\n",
       "      <th>3</th>\n",
       "      <td>3335229</td>\n",
       "      <td>16217</td>\n",
       "      <td>Fort Greene</td>\n",
       "      <td>5.2393</td>\n",
       "    </tr>\n",
       "    <tr>\n",
       "      <th>4</th>\n",
       "      <td>3335229</td>\n",
       "      <td>16217</td>\n",
       "      <td>Fort Greene</td>\n",
       "      <td>5.2393</td>\n",
       "    </tr>\n",
       "    <tr>\n",
       "      <th>...</th>\n",
       "      <td>...</td>\n",
       "      <td>...</td>\n",
       "      <td>...</td>\n",
       "      <td>...</td>\n",
       "    </tr>\n",
       "    <tr>\n",
       "      <th>340467</th>\n",
       "      <td>4194107</td>\n",
       "      <td>1826</td>\n",
       "      <td>Richmond Hill</td>\n",
       "      <td>1.3549</td>\n",
       "    </tr>\n",
       "    <tr>\n",
       "      <th>340468</th>\n",
       "      <td>3071411</td>\n",
       "      <td>616836</td>\n",
       "      <td>Bushwick South</td>\n",
       "      <td>1.3549</td>\n",
       "    </tr>\n",
       "    <tr>\n",
       "      <th>340469</th>\n",
       "      <td>3059877</td>\n",
       "      <td>617232</td>\n",
       "      <td>Williamsburg</td>\n",
       "      <td>2.1882</td>\n",
       "    </tr>\n",
       "    <tr>\n",
       "      <th>340470</th>\n",
       "      <td>1087278</td>\n",
       "      <td>617449</td>\n",
       "      <td>SoHo-TriBeCa-Civic Center-Little Italy</td>\n",
       "      <td>2.1882</td>\n",
       "    </tr>\n",
       "    <tr>\n",
       "      <th>340471</th>\n",
       "      <td>3044829</td>\n",
       "      <td>616836</td>\n",
       "      <td>Stuyvesant Heights</td>\n",
       "      <td>0.2609</td>\n",
       "    </tr>\n",
       "  </tbody>\n",
       "</table>\n",
       "<p>340472 rows × 4 columns</p>\n",
       "</div>"
      ],
      "text/plain": [
       "            BIN  LICENSE                            GIS_NTA_NAME  REWORK_INDEX\n",
       "0       3335229    16217                             Fort Greene        5.2393\n",
       "1       3335229    16217                             Fort Greene        5.2393\n",
       "2       3335229    16217                             Fort Greene        5.2393\n",
       "3       3335229    16217                             Fort Greene        5.2393\n",
       "4       3335229    16217                             Fort Greene        5.2393\n",
       "...         ...      ...                                     ...           ...\n",
       "340467  4194107     1826                           Richmond Hill        1.3549\n",
       "340468  3071411   616836                          Bushwick South        1.3549\n",
       "340469  3059877   617232                            Williamsburg        2.1882\n",
       "340470  1087278   617449  SoHo-TriBeCa-Civic Center-Little Italy        2.1882\n",
       "340471  3044829   616836                      Stuyvesant Heights        0.2609\n",
       "\n",
       "[340472 rows x 4 columns]"
      ]
     },
     "execution_count": 66,
     "metadata": {},
     "output_type": "execute_result"
    }
   ],
   "source": [
    "# build target\n",
    "df2 = get_rework_index_by_feature(df,['BIN', 'PERMIT'])\n",
    "df3 = get_rework_index_by_feature(df2,['LICENSE', 'PERMIT'])\n",
    "df4 = get_rework_index_by_feature(df3,['GIS_NTA_NAME', 'PERMIT'])\n",
    "df[target] = df4.loc[:,[\"rework_index_BIN\",\"rework_index_GIS_NTA_NAME\",\"rework_index_LICENSE\"]].sum(axis=1)\n",
    "# clean auto index generated by merge\n",
    "df = df[features]\n",
    "df"
   ]
  },
  {
   "cell_type": "code",
   "execution_count": 68,
   "id": "55b3a35b-1b7d-4c09-a6c0-ab197e2c3fbb",
   "metadata": {},
   "outputs": [
    {
     "name": "stdout",
     "output_type": "stream",
     "text": [
      "Dataframe shape: (260565, 199)\n",
      "\n",
      "\n",
      "features: Index(['BIN', 'LICENSE', 'GIS_NTA_NAME', 'REWORK_INDEX', 'Airport',\n",
      "       'Allerton-Pelham Gardens', 'Annadale-Huguenot-Prince's Bay-Eltingville',\n",
      "       'Arden Heights', 'Astoria', 'Auburndale',\n",
      "       ...\n",
      "       'Windsor Terrace', 'Woodhaven', 'Woodlawn-Wakefield', 'Woodside',\n",
      "       'Yorkville', 'park-cemetery-etc-Bronx', 'park-cemetery-etc-Brooklyn',\n",
      "       'park-cemetery-etc-Manhattan', 'park-cemetery-etc-Queens',\n",
      "       'REWORK_INDEX_BINNING'],\n",
      "      dtype='object', length=199)\n",
      "\n",
      "\n"
     ]
    }
   ],
   "source": [
    "# features preprocessing\n",
    "\n",
    "df.drop_duplicates(subset=['BIN','LICENSE','GIS_NTA_NAME','REWORK_INDEX'] ,inplace=True)\n",
    "df = pd.concat([df,pd.get_dummies(df.GIS_NTA_NAME)], axis=1)\n",
    "df[\"REWORK_INDEX_BINNING\"] = pd.cut(df.REWORK_INDEX, [ 0, 1, 2, 3, 100000], labels=False , retbins=True, right=True)[0]\n",
    "\n",
    "print(f\"Dataframe shape: {df.shape}\", end=\"\\n\"*3)\n",
    "print(f\"features: {df.columns}\", end=\"\\n\"*3)"
   ]
  },
  {
   "cell_type": "markdown",
   "id": "fb0dfdd8-9b4d-4c5a-a796-cd279feacd8a",
   "metadata": {},
   "source": [
    "## Iniciamos proceso de modelado de ML"
   ]
  },
  {
   "cell_type": "code",
   "execution_count": 123,
   "id": "9994bd9a-d6e4-4900-b267-b1ff9e7f8c46",
   "metadata": {},
   "outputs": [
    {
     "name": "stdout",
     "output_type": "stream",
     "text": [
      "binning target dsitribution\n",
      "0 88116 ==>  34%\n",
      "1 106548 ==>  41%\n",
      "2 40389 ==>  16%\n",
      "3 25512 ==>  10%\n"
     ]
    }
   ],
   "source": [
    "#set X and y, for train and test.\n",
    "df_X = df.drop(columns=['GIS_NTA_NAME', 'REWORK_INDEX', 'REWORK_INDEX_BINNING'])\n",
    "df_y = df.REWORK_INDEX_BINNING\n",
    "X_train, X_test, y_train, y_test= model_selection.train_test_split(df_X, df_y, test_size=0.2, random_state=7)\n",
    "print('binning target dsitribution')\n",
    "\n",
    "for i in range(4):\n",
    "    print(f'{i} {df_y.where(df_y==i).count()} ==> {df_y.where(df_y==i).count()/df_y.count(): .0%}')\n"
   ]
  },
  {
   "cell_type": "code",
   "execution_count": 125,
   "id": "f511732c-c545-4bf4-8e56-6950b6be49db",
   "metadata": {},
   "outputs": [
    {
     "data": {
      "text/html": [
       "<style>#sk-container-id-2 {color: black;background-color: white;}#sk-container-id-2 pre{padding: 0;}#sk-container-id-2 div.sk-toggleable {background-color: white;}#sk-container-id-2 label.sk-toggleable__label {cursor: pointer;display: block;width: 100%;margin-bottom: 0;padding: 0.3em;box-sizing: border-box;text-align: center;}#sk-container-id-2 label.sk-toggleable__label-arrow:before {content: \"▸\";float: left;margin-right: 0.25em;color: #696969;}#sk-container-id-2 label.sk-toggleable__label-arrow:hover:before {color: black;}#sk-container-id-2 div.sk-estimator:hover label.sk-toggleable__label-arrow:before {color: black;}#sk-container-id-2 div.sk-toggleable__content {max-height: 0;max-width: 0;overflow: hidden;text-align: left;background-color: #f0f8ff;}#sk-container-id-2 div.sk-toggleable__content pre {margin: 0.2em;color: black;border-radius: 0.25em;background-color: #f0f8ff;}#sk-container-id-2 input.sk-toggleable__control:checked~div.sk-toggleable__content {max-height: 200px;max-width: 100%;overflow: auto;}#sk-container-id-2 input.sk-toggleable__control:checked~label.sk-toggleable__label-arrow:before {content: \"▾\";}#sk-container-id-2 div.sk-estimator input.sk-toggleable__control:checked~label.sk-toggleable__label {background-color: #d4ebff;}#sk-container-id-2 div.sk-label input.sk-toggleable__control:checked~label.sk-toggleable__label {background-color: #d4ebff;}#sk-container-id-2 input.sk-hidden--visually {border: 0;clip: rect(1px 1px 1px 1px);clip: rect(1px, 1px, 1px, 1px);height: 1px;margin: -1px;overflow: hidden;padding: 0;position: absolute;width: 1px;}#sk-container-id-2 div.sk-estimator {font-family: monospace;background-color: #f0f8ff;border: 1px dotted black;border-radius: 0.25em;box-sizing: border-box;margin-bottom: 0.5em;}#sk-container-id-2 div.sk-estimator:hover {background-color: #d4ebff;}#sk-container-id-2 div.sk-parallel-item::after {content: \"\";width: 100%;border-bottom: 1px solid gray;flex-grow: 1;}#sk-container-id-2 div.sk-label:hover label.sk-toggleable__label {background-color: #d4ebff;}#sk-container-id-2 div.sk-serial::before {content: \"\";position: absolute;border-left: 1px solid gray;box-sizing: border-box;top: 0;bottom: 0;left: 50%;z-index: 0;}#sk-container-id-2 div.sk-serial {display: flex;flex-direction: column;align-items: center;background-color: white;padding-right: 0.2em;padding-left: 0.2em;position: relative;}#sk-container-id-2 div.sk-item {position: relative;z-index: 1;}#sk-container-id-2 div.sk-parallel {display: flex;align-items: stretch;justify-content: center;background-color: white;position: relative;}#sk-container-id-2 div.sk-item::before, #sk-container-id-2 div.sk-parallel-item::before {content: \"\";position: absolute;border-left: 1px solid gray;box-sizing: border-box;top: 0;bottom: 0;left: 50%;z-index: -1;}#sk-container-id-2 div.sk-parallel-item {display: flex;flex-direction: column;z-index: 1;position: relative;background-color: white;}#sk-container-id-2 div.sk-parallel-item:first-child::after {align-self: flex-end;width: 50%;}#sk-container-id-2 div.sk-parallel-item:last-child::after {align-self: flex-start;width: 50%;}#sk-container-id-2 div.sk-parallel-item:only-child::after {width: 0;}#sk-container-id-2 div.sk-dashed-wrapped {border: 1px dashed gray;margin: 0 0.4em 0.5em 0.4em;box-sizing: border-box;padding-bottom: 0.4em;background-color: white;}#sk-container-id-2 div.sk-label label {font-family: monospace;font-weight: bold;display: inline-block;line-height: 1.2em;}#sk-container-id-2 div.sk-label-container {text-align: center;}#sk-container-id-2 div.sk-container {/* jupyter's `normalize.less` sets `[hidden] { display: none; }` but bootstrap.min.css set `[hidden] { display: none !important; }` so we also need the `!important` here to be able to override the default hidden behavior on the sphinx rendered scikit-learn.org. See: https://github.com/scikit-learn/scikit-learn/issues/21755 */display: inline-block !important;position: relative;}#sk-container-id-2 div.sk-text-repr-fallback {display: none;}</style><div id=\"sk-container-id-2\" class=\"sk-top-container\"><div class=\"sk-text-repr-fallback\"><pre>XGBClassifier(base_score=0.5, booster=&#x27;gbtree&#x27;, callbacks=None,\n",
       "              colsample_bylevel=1, colsample_bynode=1, colsample_bytree=1,\n",
       "              early_stopping_rounds=None, enable_categorical=False,\n",
       "              eval_metric=None, gamma=0, gpu_id=-1, grow_policy=&#x27;depthwise&#x27;,\n",
       "              importance_type=None, interaction_constraints=&#x27;&#x27;,\n",
       "              learning_rate=0.300000012, max_bin=256, max_cat_to_onehot=4,\n",
       "              max_delta_step=0, max_depth=6, max_leaves=0, min_child_weight=1,\n",
       "              missing=nan, monotone_constraints=&#x27;()&#x27;, n_estimators=100,\n",
       "              n_jobs=2, num_parallel_tree=1, objective=&#x27;multi:softprob&#x27;,\n",
       "              predictor=&#x27;auto&#x27;, random_state=0, reg_alpha=0, ...)</pre><b>In a Jupyter environment, please rerun this cell to show the HTML representation or trust the notebook. <br />On GitHub, the HTML representation is unable to render, please try loading this page with nbviewer.org.</b></div><div class=\"sk-container\" hidden><div class=\"sk-item\"><div class=\"sk-estimator sk-toggleable\"><input class=\"sk-toggleable__control sk-hidden--visually\" id=\"sk-estimator-id-2\" type=\"checkbox\" checked><label for=\"sk-estimator-id-2\" class=\"sk-toggleable__label sk-toggleable__label-arrow\">XGBClassifier</label><div class=\"sk-toggleable__content\"><pre>XGBClassifier(base_score=0.5, booster=&#x27;gbtree&#x27;, callbacks=None,\n",
       "              colsample_bylevel=1, colsample_bynode=1, colsample_bytree=1,\n",
       "              early_stopping_rounds=None, enable_categorical=False,\n",
       "              eval_metric=None, gamma=0, gpu_id=-1, grow_policy=&#x27;depthwise&#x27;,\n",
       "              importance_type=None, interaction_constraints=&#x27;&#x27;,\n",
       "              learning_rate=0.300000012, max_bin=256, max_cat_to_onehot=4,\n",
       "              max_delta_step=0, max_depth=6, max_leaves=0, min_child_weight=1,\n",
       "              missing=nan, monotone_constraints=&#x27;()&#x27;, n_estimators=100,\n",
       "              n_jobs=2, num_parallel_tree=1, objective=&#x27;multi:softprob&#x27;,\n",
       "              predictor=&#x27;auto&#x27;, random_state=0, reg_alpha=0, ...)</pre></div></div></div></div></div>"
      ],
      "text/plain": [
       "XGBClassifier(base_score=0.5, booster='gbtree', callbacks=None,\n",
       "              colsample_bylevel=1, colsample_bynode=1, colsample_bytree=1,\n",
       "              early_stopping_rounds=None, enable_categorical=False,\n",
       "              eval_metric=None, gamma=0, gpu_id=-1, grow_policy='depthwise',\n",
       "              importance_type=None, interaction_constraints='',\n",
       "              learning_rate=0.300000012, max_bin=256, max_cat_to_onehot=4,\n",
       "              max_delta_step=0, max_depth=6, max_leaves=0, min_child_weight=1,\n",
       "              missing=nan, monotone_constraints='()', n_estimators=100,\n",
       "              n_jobs=2, num_parallel_tree=1, objective='multi:softprob',\n",
       "              predictor='auto', random_state=0, reg_alpha=0, ...)"
      ]
     },
     "execution_count": 125,
     "metadata": {},
     "output_type": "execute_result"
    }
   ],
   "source": [
    "# Build model|\n",
    "\n",
    "xgb_model = xgb.XGBClassifier(n_jobs=multiprocessing.cpu_count() // 2,)\n",
    "xgb_model.fit(X_train, y_train)\n"
   ]
  },
  {
   "cell_type": "code",
   "execution_count": 126,
   "id": "c4e11007-5dc2-4b54-b192-5325a7cfe813",
   "metadata": {},
   "outputs": [],
   "source": [
    "# make predictions\n",
    "\n",
    "predictions = xgb_model.predict(X_test)\n",
    "predictions_train = xgb_model.predict(X_train)"
   ]
  },
  {
   "cell_type": "code",
   "execution_count": 127,
   "id": "07324d20-8891-4c5d-a411-3eb2be9a2f71",
   "metadata": {},
   "outputs": [
    {
     "name": "stdout",
     "output_type": "stream",
     "text": [
      "--------Confusion matrix: MODEL RUN OVER y_train RESULTS---------------\n",
      "              precision    recall  f1-score   support\n",
      "\n",
      "           0       0.57      0.18      0.27     70463\n",
      "           1       0.43      0.94      0.59     85149\n",
      "           2       0.82      0.02      0.03     32358\n",
      "           3       0.65      0.04      0.07     20482\n",
      "\n",
      "    accuracy                           0.45    208452\n",
      "   macro avg       0.62      0.29      0.24    208452\n",
      "weighted avg       0.56      0.45      0.35    208452\n",
      "\n",
      "--------Confusion matrix: MODEL RUN OVER y_test RESULTS---------------\n",
      "              precision    recall  f1-score   support\n",
      "\n",
      "           0       0.44      0.14      0.21     17653\n",
      "           1       0.42      0.91      0.58     21399\n",
      "           2       0.46      0.01      0.02      8031\n",
      "           3       0.51      0.03      0.05      5030\n",
      "\n",
      "    accuracy                           0.42     52113\n",
      "   macro avg       0.46      0.27      0.21     52113\n",
      "weighted avg       0.44      0.42      0.31     52113\n",
      "\n",
      "--------Confusion matrix: METRICS OVER HARD CODE REWORK_INDEX_BINNING= 0  RESULTS---------------\n"
     ]
    },
    {
     "name": "stderr",
     "output_type": "stream",
     "text": [
      "C:\\Users\\Compumundo\\AppData\\Local\\Programs\\Python\\Python310\\lib\\site-packages\\sklearn\\metrics\\_classification.py:1334: UndefinedMetricWarning: Precision and F-score are ill-defined and being set to 0.0 in labels with no predicted samples. Use `zero_division` parameter to control this behavior.\n",
      "  _warn_prf(average, modifier, msg_start, len(result))\n",
      "C:\\Users\\Compumundo\\AppData\\Local\\Programs\\Python\\Python310\\lib\\site-packages\\sklearn\\metrics\\_classification.py:1334: UndefinedMetricWarning: Precision and F-score are ill-defined and being set to 0.0 in labels with no predicted samples. Use `zero_division` parameter to control this behavior.\n",
      "  _warn_prf(average, modifier, msg_start, len(result))\n",
      "C:\\Users\\Compumundo\\AppData\\Local\\Programs\\Python\\Python310\\lib\\site-packages\\sklearn\\metrics\\_classification.py:1334: UndefinedMetricWarning: Precision and F-score are ill-defined and being set to 0.0 in labels with no predicted samples. Use `zero_division` parameter to control this behavior.\n",
      "  _warn_prf(average, modifier, msg_start, len(result))\n"
     ]
    },
    {
     "name": "stdout",
     "output_type": "stream",
     "text": [
      "              precision    recall  f1-score   support\n",
      "\n",
      "           0       0.34      1.00      0.51     70463\n",
      "           1       0.00      0.00      0.00     85149\n",
      "           2       0.00      0.00      0.00     32358\n",
      "           3       0.00      0.00      0.00     20482\n",
      "\n",
      "    accuracy                           0.34    208452\n",
      "   macro avg       0.08      0.25      0.13    208452\n",
      "weighted avg       0.11      0.34      0.17    208452\n",
      "\n",
      "--------Confusion matrix: METRICS OVER HARD CODE REWORK_INDEX_BINNING= 1  RESULTS---------------\n"
     ]
    },
    {
     "name": "stderr",
     "output_type": "stream",
     "text": [
      "C:\\Users\\Compumundo\\AppData\\Local\\Programs\\Python\\Python310\\lib\\site-packages\\sklearn\\metrics\\_classification.py:1334: UndefinedMetricWarning: Precision and F-score are ill-defined and being set to 0.0 in labels with no predicted samples. Use `zero_division` parameter to control this behavior.\n",
      "  _warn_prf(average, modifier, msg_start, len(result))\n",
      "C:\\Users\\Compumundo\\AppData\\Local\\Programs\\Python\\Python310\\lib\\site-packages\\sklearn\\metrics\\_classification.py:1334: UndefinedMetricWarning: Precision and F-score are ill-defined and being set to 0.0 in labels with no predicted samples. Use `zero_division` parameter to control this behavior.\n",
      "  _warn_prf(average, modifier, msg_start, len(result))\n",
      "C:\\Users\\Compumundo\\AppData\\Local\\Programs\\Python\\Python310\\lib\\site-packages\\sklearn\\metrics\\_classification.py:1334: UndefinedMetricWarning: Precision and F-score are ill-defined and being set to 0.0 in labels with no predicted samples. Use `zero_division` parameter to control this behavior.\n",
      "  _warn_prf(average, modifier, msg_start, len(result))\n"
     ]
    },
    {
     "name": "stdout",
     "output_type": "stream",
     "text": [
      "              precision    recall  f1-score   support\n",
      "\n",
      "           0       0.00      0.00      0.00     70463\n",
      "           1       0.41      1.00      0.58     85149\n",
      "           2       0.00      0.00      0.00     32358\n",
      "           3       0.00      0.00      0.00     20482\n",
      "\n",
      "    accuracy                           0.41    208452\n",
      "   macro avg       0.10      0.25      0.15    208452\n",
      "weighted avg       0.17      0.41      0.24    208452\n",
      "\n",
      "--------Confusion matrix: METRICS OVER HARD CODE REWORK_INDEX_BINNING= 2  RESULTS---------------\n"
     ]
    },
    {
     "name": "stderr",
     "output_type": "stream",
     "text": [
      "C:\\Users\\Compumundo\\AppData\\Local\\Programs\\Python\\Python310\\lib\\site-packages\\sklearn\\metrics\\_classification.py:1334: UndefinedMetricWarning: Precision and F-score are ill-defined and being set to 0.0 in labels with no predicted samples. Use `zero_division` parameter to control this behavior.\n",
      "  _warn_prf(average, modifier, msg_start, len(result))\n",
      "C:\\Users\\Compumundo\\AppData\\Local\\Programs\\Python\\Python310\\lib\\site-packages\\sklearn\\metrics\\_classification.py:1334: UndefinedMetricWarning: Precision and F-score are ill-defined and being set to 0.0 in labels with no predicted samples. Use `zero_division` parameter to control this behavior.\n",
      "  _warn_prf(average, modifier, msg_start, len(result))\n",
      "C:\\Users\\Compumundo\\AppData\\Local\\Programs\\Python\\Python310\\lib\\site-packages\\sklearn\\metrics\\_classification.py:1334: UndefinedMetricWarning: Precision and F-score are ill-defined and being set to 0.0 in labels with no predicted samples. Use `zero_division` parameter to control this behavior.\n",
      "  _warn_prf(average, modifier, msg_start, len(result))\n"
     ]
    },
    {
     "name": "stdout",
     "output_type": "stream",
     "text": [
      "              precision    recall  f1-score   support\n",
      "\n",
      "           0       0.00      0.00      0.00     70463\n",
      "           1       0.00      0.00      0.00     85149\n",
      "           2       0.16      1.00      0.27     32358\n",
      "           3       0.00      0.00      0.00     20482\n",
      "\n",
      "    accuracy                           0.16    208452\n",
      "   macro avg       0.04      0.25      0.07    208452\n",
      "weighted avg       0.02      0.16      0.04    208452\n",
      "\n",
      "--------Confusion matrix: METRICS OVER HARD CODE REWORK_INDEX_BINNING= 3  RESULTS---------------\n"
     ]
    },
    {
     "name": "stderr",
     "output_type": "stream",
     "text": [
      "C:\\Users\\Compumundo\\AppData\\Local\\Programs\\Python\\Python310\\lib\\site-packages\\sklearn\\metrics\\_classification.py:1334: UndefinedMetricWarning: Precision and F-score are ill-defined and being set to 0.0 in labels with no predicted samples. Use `zero_division` parameter to control this behavior.\n",
      "  _warn_prf(average, modifier, msg_start, len(result))\n"
     ]
    },
    {
     "name": "stdout",
     "output_type": "stream",
     "text": [
      "              precision    recall  f1-score   support\n",
      "\n",
      "           0       0.00      0.00      0.00     70463\n",
      "           1       0.00      0.00      0.00     85149\n",
      "           2       0.00      0.00      0.00     32358\n",
      "           3       0.10      1.00      0.18     20482\n",
      "\n",
      "    accuracy                           0.10    208452\n",
      "   macro avg       0.02      0.25      0.04    208452\n",
      "weighted avg       0.01      0.10      0.02    208452\n",
      "\n"
     ]
    },
    {
     "name": "stderr",
     "output_type": "stream",
     "text": [
      "C:\\Users\\Compumundo\\AppData\\Local\\Programs\\Python\\Python310\\lib\\site-packages\\sklearn\\metrics\\_classification.py:1334: UndefinedMetricWarning: Precision and F-score are ill-defined and being set to 0.0 in labels with no predicted samples. Use `zero_division` parameter to control this behavior.\n",
      "  _warn_prf(average, modifier, msg_start, len(result))\n",
      "C:\\Users\\Compumundo\\AppData\\Local\\Programs\\Python\\Python310\\lib\\site-packages\\sklearn\\metrics\\_classification.py:1334: UndefinedMetricWarning: Precision and F-score are ill-defined and being set to 0.0 in labels with no predicted samples. Use `zero_division` parameter to control this behavior.\n",
      "  _warn_prf(average, modifier, msg_start, len(result))\n"
     ]
    }
   ],
   "source": [
    "# Reporting  \n",
    "\n",
    "hard_core_0 =pd.Series(np.zeros(len(X_train)))\n",
    "hard_core_1 =pd.Series(np.ones(len(X_train)))\n",
    "hard_core_2 =pd.Series(2*np.ones(len(X_train)))\n",
    "hard_core_3 =pd.Series(3*np.ones(len(X_train)))\n",
    "\n",
    "print(\"--------Confusion matrix: MODEL RUN OVER y_train RESULTS---------------\")\n",
    "print(classification_report(y_train, predictions_train))\n",
    "print(\"--------Confusion matrix: MODEL RUN OVER y_test RESULTS---------------\")\n",
    "print(classification_report(y_test, predictions))\n",
    "print(\"--------Confusion matrix: METRICS OVER HARD CODE REWORK_INDEX_BINNING= 0  RESULTS---------------\")\n",
    "print(classification_report(y_train, hard_core_0))\n",
    "print(\"--------Confusion matrix: METRICS OVER HARD CODE REWORK_INDEX_BINNING= 1  RESULTS---------------\")\n",
    "print(classification_report(y_train, hard_core_1))\n",
    "print(\"--------Confusion matrix: METRICS OVER HARD CODE REWORK_INDEX_BINNING= 2  RESULTS---------------\")\n",
    "print(classification_report(y_train, hard_core_2))\n",
    "print(\"--------Confusion matrix: METRICS OVER HARD CODE REWORK_INDEX_BINNING= 3  RESULTS---------------\")\n",
    "print(classification_report(y_train, hard_core_3))\n"
   ]
  },
  {
   "cell_type": "code",
   "execution_count": 128,
   "id": "91847e80-8b79-4cf2-a0ce-f0fceedd469f",
   "metadata": {},
   "outputs": [
    {
     "data": {
      "text/plain": [
       "<AxesSubplot:title={'center':'Feature importance'}, xlabel='F score', ylabel='Features'>"
      ]
     },
     "execution_count": 128,
     "metadata": {},
     "output_type": "execute_result"
    },
    {
     "data": {
      "image/png": "[encoded data removed]",
      "text/plain": [
       "<Figure size 432x288 with 1 Axes>"
      ]
     },
     "metadata": {
      "needs_background": "light"
     },
     "output_type": "display_data"
    }
   ],
   "source": [
    "xgb.plot_importance(xgb_model, max_num_features = 5)"
   ]
  },
  {
   "cell_type": "code",
   "execution_count": 156,
   "id": "e5567a6d-9502-444d-bc10-6b18d921facb",
   "metadata": {},
   "outputs": [],
   "source": [
    "# Now train a Random forest with hyper parameters taked from autoML \n",
    "\n",
    "clf = RandomForestClassifier(bootstrap=False, max_features=1, min_samples_split=16,\n",
    "                         n_estimators=512, n_jobs=-1, random_state=1,\n",
    "                         warm_start=True)"
   ]
  },
  {
   "cell_type": "code",
   "execution_count": 157,
   "id": "9dfe2082-1cc9-4a4e-b981-697503c20535",
   "metadata": {},
   "outputs": [
    {
     "data": {
      "text/html": [
       "<style>#sk-container-id-3 {color: black;background-color: white;}#sk-container-id-3 pre{padding: 0;}#sk-container-id-3 div.sk-toggleable {background-color: white;}#sk-container-id-3 label.sk-toggleable__label {cursor: pointer;display: block;width: 100%;margin-bottom: 0;padding: 0.3em;box-sizing: border-box;text-align: center;}#sk-container-id-3 label.sk-toggleable__label-arrow:before {content: \"▸\";float: left;margin-right: 0.25em;color: #696969;}#sk-container-id-3 label.sk-toggleable__label-arrow:hover:before {color: black;}#sk-container-id-3 div.sk-estimator:hover label.sk-toggleable__label-arrow:before {color: black;}#sk-container-id-3 div.sk-toggleable__content {max-height: 0;max-width: 0;overflow: hidden;text-align: left;background-color: #f0f8ff;}#sk-container-id-3 div.sk-toggleable__content pre {margin: 0.2em;color: black;border-radius: 0.25em;background-color: #f0f8ff;}#sk-container-id-3 input.sk-toggleable__control:checked~div.sk-toggleable__content {max-height: 200px;max-width: 100%;overflow: auto;}#sk-container-id-3 input.sk-toggleable__control:checked~label.sk-toggleable__label-arrow:before {content: \"▾\";}#sk-container-id-3 div.sk-estimator input.sk-toggleable__control:checked~label.sk-toggleable__label {background-color: #d4ebff;}#sk-container-id-3 div.sk-label input.sk-toggleable__control:checked~label.sk-toggleable__label {background-color: #d4ebff;}#sk-container-id-3 input.sk-hidden--visually {border: 0;clip: rect(1px 1px 1px 1px);clip: rect(1px, 1px, 1px, 1px);height: 1px;margin: -1px;overflow: hidden;padding: 0;position: absolute;width: 1px;}#sk-container-id-3 div.sk-estimator {font-family: monospace;background-color: #f0f8ff;border: 1px dotted black;border-radius: 0.25em;box-sizing: border-box;margin-bottom: 0.5em;}#sk-container-id-3 div.sk-estimator:hover {background-color: #d4ebff;}#sk-container-id-3 div.sk-parallel-item::after {content: \"\";width: 100%;border-bottom: 1px solid gray;flex-grow: 1;}#sk-container-id-3 div.sk-label:hover label.sk-toggleable__label {background-color: #d4ebff;}#sk-container-id-3 div.sk-serial::before {content: \"\";position: absolute;border-left: 1px solid gray;box-sizing: border-box;top: 0;bottom: 0;left: 50%;z-index: 0;}#sk-container-id-3 div.sk-serial {display: flex;flex-direction: column;align-items: center;background-color: white;padding-right: 0.2em;padding-left: 0.2em;position: relative;}#sk-container-id-3 div.sk-item {position: relative;z-index: 1;}#sk-container-id-3 div.sk-parallel {display: flex;align-items: stretch;justify-content: center;background-color: white;position: relative;}#sk-container-id-3 div.sk-item::before, #sk-container-id-3 div.sk-parallel-item::before {content: \"\";position: absolute;border-left: 1px solid gray;box-sizing: border-box;top: 0;bottom: 0;left: 50%;z-index: -1;}#sk-container-id-3 div.sk-parallel-item {display: flex;flex-direction: column;z-index: 1;position: relative;background-color: white;}#sk-container-id-3 div.sk-parallel-item:first-child::after {align-self: flex-end;width: 50%;}#sk-container-id-3 div.sk-parallel-item:last-child::after {align-self: flex-start;width: 50%;}#sk-container-id-3 div.sk-parallel-item:only-child::after {width: 0;}#sk-container-id-3 div.sk-dashed-wrapped {border: 1px dashed gray;margin: 0 0.4em 0.5em 0.4em;box-sizing: border-box;padding-bottom: 0.4em;background-color: white;}#sk-container-id-3 div.sk-label label {font-family: monospace;font-weight: bold;display: inline-block;line-height: 1.2em;}#sk-container-id-3 div.sk-label-container {text-align: center;}#sk-container-id-3 div.sk-container {/* jupyter's `normalize.less` sets `[hidden] { display: none; }` but bootstrap.min.css set `[hidden] { display: none !important; }` so we also need the `!important` here to be able to override the default hidden behavior on the sphinx rendered scikit-learn.org. See: https://github.com/scikit-learn/scikit-learn/issues/21755 */display: inline-block !important;position: relative;}#sk-container-id-3 div.sk-text-repr-fallback {display: none;}</style><div id=\"sk-container-id-3\" class=\"sk-top-container\"><div class=\"sk-text-repr-fallback\"><pre>RandomForestClassifier(bootstrap=False, max_features=1, min_samples_split=16,\n",
       "                       n_estimators=512, n_jobs=-1, random_state=1,\n",
       "                       warm_start=True)</pre><b>In a Jupyter environment, please rerun this cell to show the HTML representation or trust the notebook. <br />On GitHub, the HTML representation is unable to render, please try loading this page with nbviewer.org.</b></div><div class=\"sk-container\" hidden><div class=\"sk-item\"><div class=\"sk-estimator sk-toggleable\"><input class=\"sk-toggleable__control sk-hidden--visually\" id=\"sk-estimator-id-3\" type=\"checkbox\" checked><label for=\"sk-estimator-id-3\" class=\"sk-toggleable__label sk-toggleable__label-arrow\">RandomForestClassifier</label><div class=\"sk-toggleable__content\"><pre>RandomForestClassifier(bootstrap=False, max_features=1, min_samples_split=16,\n",
       "                       n_estimators=512, n_jobs=-1, random_state=1,\n",
       "                       warm_start=True)</pre></div></div></div></div></div>"
      ],
      "text/plain": [
       "RandomForestClassifier(bootstrap=False, max_features=1, min_samples_split=16,\n",
       "                       n_estimators=512, n_jobs=-1, random_state=1,\n",
       "                       warm_start=True)"
      ]
     },
     "execution_count": 157,
     "metadata": {},
     "output_type": "execute_result"
    }
   ],
   "source": [
    "# train the model\n",
    "\n",
    "clf.fit(X_train,y_train)\n"
   ]
  },
  {
   "cell_type": "code",
   "execution_count": 170,
   "id": "8b0cb004-9a19-457a-af76-fb518d6f9934",
   "metadata": {},
   "outputs": [],
   "source": [
    "# predictions\n",
    "\n",
    "predictions = clf.predict(X_test)\n",
    "predictions_train = clf.predict(X_train)\n"
   ]
  },
  {
   "cell_type": "code",
   "execution_count": 171,
   "id": "9d14a4b7-0ef8-46e9-9257-873b63c90d12",
   "metadata": {},
   "outputs": [
    {
     "name": "stdout",
     "output_type": "stream",
     "text": [
      "--------Confusion matrix: MODEL RF RUN OVER y_train RESULTS---------------\n",
      "              precision    recall  f1-score   support\n",
      "\n",
      "           0       0.73      0.79      0.76     70463\n",
      "           1       0.71      0.84      0.77     85149\n",
      "           2       0.77      0.50      0.61     32358\n",
      "           3       0.82      0.44      0.57     20482\n",
      "\n",
      "    accuracy                           0.73    208452\n",
      "   macro avg       0.76      0.64      0.68    208452\n",
      "weighted avg       0.74      0.73      0.72    208452\n",
      "\n",
      "--------Confusion matrix: MODEL RF RUN OVER y_test RESULTS---------------\n",
      "              precision    recall  f1-score   support\n",
      "\n",
      "           0       0.42      0.45      0.44     17653\n",
      "           1       0.45      0.56      0.50     21399\n",
      "           2       0.27      0.15      0.19      8031\n",
      "           3       0.28      0.11      0.16      5030\n",
      "\n",
      "    accuracy                           0.42     52113\n",
      "   macro avg       0.35      0.32      0.32     52113\n",
      "weighted avg       0.40      0.42      0.40     52113\n",
      "\n"
     ]
    }
   ],
   "source": [
    "# reporting \n",
    "\n",
    "print(\"--------Confusion matrix: MODEL RF RUN OVER y_train RESULTS---------------\")\n",
    "print(classification_report(y_train, predictions_train))\n",
    "print(\"--------Confusion matrix: MODEL RF RUN OVER y_test RESULTS---------------\")\n",
    "print(classification_report(y_test, predictions))"
   ]
  },
  {
   "cell_type": "code",
   "execution_count": 169,
   "id": "2584787f-28b8-4cc7-a9cd-6a05770a15ec",
   "metadata": {},
   "outputs": [
    {
     "name": "stdout",
     "output_type": "stream",
     "text": [
      "Saving models...\n",
      "\n",
      "\n",
      "Model SCGBOOST Saved OK\n",
      "\n",
      "\n",
      "Saving models...\n",
      "\n",
      "\n",
      "Model RandomForest Saved OK\n",
      "\n",
      "\n"
     ]
    }
   ],
   "source": [
    "# Saving model \n",
    "print(\"Saving models...\\n\\n\")\n",
    "try:\n",
    "    path = \"model-Version-\" + datetime.now().strftime(\"%Y-%m-%d-%H-%M-%S\") + \".json\"\n",
    "    xgb_model.save_model(path)\n",
    "    print(\"Model SCGBOOST Saved OK\\n\\n\")\n",
    "except():\n",
    "    print('MODEL NOT SAVED AT DISK')\n",
    "    pass\n",
    "\n",
    "# Saving model \n",
    "print(\"Saving models...\\n\\n\")\n",
    "try:\n",
    "    path = \"RandomForest\" + datetime.now().strftime(\"%Y-%m-%d-%H-%M-%S\") + \".joblib\"\n",
    "    dump(clf, path)\n",
    "    print(\"Model RandomForest Saved OK\\n\\n\")\n",
    "except():\n",
    "    print('MODEL RandomForest NOT SAVED AT DISK')\n",
    "    pass\n"
   ]
  }
 ],
 "metadata": {
  "kernelspec": {
   "display_name": "Python 3 (ipykernel)",
   "language": "python",
   "name": "python3"
  },
  "language_info": {
   "codemirror_mode": {
    "name": "ipython",
    "version": 3
   },
   "file_extension": ".py",
   "mimetype": "text/x-python",
   "name": "python",
   "nbconvert_exporter": "python",
   "pygments_lexer": "ipython3",
   "version": "3.10.6"
  }
 },
 "nbformat": 4,
 "nbformat_minor": 5
}
